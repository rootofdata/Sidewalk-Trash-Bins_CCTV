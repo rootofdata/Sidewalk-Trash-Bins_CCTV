{
 "cells": [
  {
   "cell_type": "code",
   "execution_count": 17,
   "id": "1f6fd517",
   "metadata": {
    "ExecuteTime": {
     "end_time": "2022-03-21T06:37:10.739086Z",
     "start_time": "2022-03-21T06:37:10.051195Z"
    }
   },
   "outputs": [],
   "source": [
    "import pandas as pd\n",
    "#matplotlib 패키지 한글 깨짐 처리 시작\n",
    "import matplotlib.pyplot as plt\n",
    "import platform\n",
    "if platform.system() == 'Windows': #윈도우\n",
    "        plt.rc('font', family='신명조체') \n",
    "plt.rcParams['axes.unicode_minus'] = False #한글 폰트 사용시 마이너스 폰트 깨짐 해결\n",
    "#matplotlib 패키지 한글 깨짐 처리 끝"
   ]
  },
  {
   "cell_type": "code",
   "execution_count": 18,
   "id": "114f49bb",
   "metadata": {
    "ExecuteTime": {
     "end_time": "2022-03-21T06:37:10.878083Z",
     "start_time": "2022-03-21T06:37:10.740353Z"
    }
   },
   "outputs": [],
   "source": [
    "df = pd.read_excel('C:/Users/dudtj/OneDrive - 숭실대학교 - Soongsil University/Desktop/CL/python/강서구 경진대회/data/서울특별시 강서구 (안심이) CCTV 설치 현황.xlsx')"
   ]
  },
  {
   "cell_type": "code",
   "execution_count": 19,
   "id": "db4d7b52",
   "metadata": {
    "ExecuteTime": {
     "end_time": "2022-03-21T06:37:10.893447Z",
     "start_time": "2022-03-21T06:37:10.879487Z"
    },
    "scrolled": true
   },
   "outputs": [
    {
     "data": {
      "text/html": [
       "<div>\n",
       "<style scoped>\n",
       "    .dataframe tbody tr th:only-of-type {\n",
       "        vertical-align: middle;\n",
       "    }\n",
       "\n",
       "    .dataframe tbody tr th {\n",
       "        vertical-align: top;\n",
       "    }\n",
       "\n",
       "    .dataframe thead th {\n",
       "        text-align: right;\n",
       "    }\n",
       "</style>\n",
       "<table border=\"1\" class=\"dataframe\">\n",
       "  <thead>\n",
       "    <tr style=\"text-align: right;\">\n",
       "      <th></th>\n",
       "      <th>자치구</th>\n",
       "      <th>안심 주소</th>\n",
       "      <th>CCTV 용도</th>\n",
       "      <th>위도</th>\n",
       "      <th>경도</th>\n",
       "      <th>CCTV 수량</th>\n",
       "      <th>수정 일시</th>\n",
       "      <th>동정보</th>\n",
       "    </tr>\n",
       "  </thead>\n",
       "  <tbody>\n",
       "    <tr>\n",
       "      <th>0</th>\n",
       "      <td>강서구</td>\n",
       "      <td>P253001(A5002)_화곡1동 908-9(호돌이 공원)</td>\n",
       "      <td>도심공원</td>\n",
       "      <td>37.528107</td>\n",
       "      <td>126.845980</td>\n",
       "      <td>1</td>\n",
       "      <td>2021-01-29</td>\n",
       "      <td>NaN</td>\n",
       "    </tr>\n",
       "    <tr>\n",
       "      <th>1</th>\n",
       "      <td>강서구</td>\n",
       "      <td>P303005_화곡8동 892-17(모태어린이공원)</td>\n",
       "      <td>도심공원</td>\n",
       "      <td>37.529472</td>\n",
       "      <td>126.849621</td>\n",
       "      <td>1</td>\n",
       "      <td>2021-01-29</td>\n",
       "      <td>NaN</td>\n",
       "    </tr>\n",
       "    <tr>\n",
       "      <th>2</th>\n",
       "      <td>강서구</td>\n",
       "      <td>P263002_화곡2동 883-3 하마터어린이공원</td>\n",
       "      <td>도심공원</td>\n",
       "      <td>37.529998</td>\n",
       "      <td>126.853446</td>\n",
       "      <td>1</td>\n",
       "      <td>2021-01-29</td>\n",
       "      <td>NaN</td>\n",
       "    </tr>\n",
       "    <tr>\n",
       "      <th>3</th>\n",
       "      <td>강서구</td>\n",
       "      <td>P263001_화곡2동 845-19 뜸부기어린이공원</td>\n",
       "      <td>도심공원</td>\n",
       "      <td>37.530087</td>\n",
       "      <td>126.856926</td>\n",
       "      <td>1</td>\n",
       "      <td>2021-01-29</td>\n",
       "      <td>NaN</td>\n",
       "    </tr>\n",
       "    <tr>\n",
       "      <th>4</th>\n",
       "      <td>강서구</td>\n",
       "      <td>P253005_화곡1동 355-12(필마어린이공원)</td>\n",
       "      <td>도심공원</td>\n",
       "      <td>37.531600</td>\n",
       "      <td>126.838757</td>\n",
       "      <td>1</td>\n",
       "      <td>2021-01-29</td>\n",
       "      <td>NaN</td>\n",
       "    </tr>\n",
       "  </tbody>\n",
       "</table>\n",
       "</div>"
      ],
      "text/plain": [
       "   자치구                              안심 주소 CCTV 용도         위도          경도  \\\n",
       "0  강서구  P253001(A5002)_화곡1동 908-9(호돌이 공원)    도심공원  37.528107  126.845980   \n",
       "1  강서구       P303005_화곡8동 892-17(모태어린이공원)    도심공원  37.529472  126.849621   \n",
       "2  강서구        P263002_화곡2동 883-3 하마터어린이공원    도심공원  37.529998  126.853446   \n",
       "3  강서구       P263001_화곡2동 845-19 뜸부기어린이공원    도심공원  37.530087  126.856926   \n",
       "4  강서구       P253005_화곡1동 355-12(필마어린이공원)    도심공원  37.531600  126.838757   \n",
       "\n",
       "   CCTV 수량      수정 일시  동정보  \n",
       "0        1 2021-01-29  NaN  \n",
       "1        1 2021-01-29  NaN  \n",
       "2        1 2021-01-29  NaN  \n",
       "3        1 2021-01-29  NaN  \n",
       "4        1 2021-01-29  NaN  "
      ]
     },
     "execution_count": 19,
     "metadata": {},
     "output_type": "execute_result"
    }
   ],
   "source": [
    "df.head()"
   ]
  },
  {
   "cell_type": "code",
   "execution_count": 20,
   "id": "900229a3",
   "metadata": {
    "ExecuteTime": {
     "end_time": "2022-03-21T06:37:10.908642Z",
     "start_time": "2022-03-21T06:37:10.895238Z"
    }
   },
   "outputs": [],
   "source": [
    "df1=df[df[\"CCTV 용도\"]=='쓰레기 무단투기']\n",
    "df1=df1[df1[\"자치구\"]=='강서구']\n",
    "df1.reset_index(inplace=True)"
   ]
  },
  {
   "cell_type": "code",
   "execution_count": 21,
   "id": "d41b6936",
   "metadata": {
    "ExecuteTime": {
     "end_time": "2022-03-21T06:37:10.940204Z",
     "start_time": "2022-03-21T06:37:10.910222Z"
    }
   },
   "outputs": [
    {
     "data": {
      "text/html": [
       "<div>\n",
       "<style scoped>\n",
       "    .dataframe tbody tr th:only-of-type {\n",
       "        vertical-align: middle;\n",
       "    }\n",
       "\n",
       "    .dataframe tbody tr th {\n",
       "        vertical-align: top;\n",
       "    }\n",
       "\n",
       "    .dataframe thead th {\n",
       "        text-align: right;\n",
       "    }\n",
       "</style>\n",
       "<table border=\"1\" class=\"dataframe\">\n",
       "  <thead>\n",
       "    <tr style=\"text-align: right;\">\n",
       "      <th></th>\n",
       "      <th>index</th>\n",
       "      <th>자치구</th>\n",
       "      <th>안심 주소</th>\n",
       "      <th>CCTV 용도</th>\n",
       "      <th>위도</th>\n",
       "      <th>경도</th>\n",
       "      <th>CCTV 수량</th>\n",
       "      <th>수정 일시</th>\n",
       "      <th>동정보</th>\n",
       "    </tr>\n",
       "  </thead>\n",
       "  <tbody>\n",
       "    <tr>\n",
       "      <th>0</th>\n",
       "      <td>2194</td>\n",
       "      <td>강서구</td>\n",
       "      <td>T255004(T9042)_화곡1동 914-39(무단투기)</td>\n",
       "      <td>쓰레기 무단투기</td>\n",
       "      <td>37.529114</td>\n",
       "      <td>126.844800</td>\n",
       "      <td>1</td>\n",
       "      <td>2021-01-29</td>\n",
       "      <td>화곡1동</td>\n",
       "    </tr>\n",
       "    <tr>\n",
       "      <th>1</th>\n",
       "      <td>2195</td>\n",
       "      <td>강서구</td>\n",
       "      <td>T215002(T9024)_화곡1동 937-7(무단투기)</td>\n",
       "      <td>쓰레기 무단투기</td>\n",
       "      <td>37.529304</td>\n",
       "      <td>126.839828</td>\n",
       "      <td>1</td>\n",
       "      <td>2021-01-29</td>\n",
       "      <td>화곡1동</td>\n",
       "    </tr>\n",
       "    <tr>\n",
       "      <th>2</th>\n",
       "      <td>2196</td>\n",
       "      <td>강서구</td>\n",
       "      <td>T255005(T9043)_화곡1동 925-17(무단투기)</td>\n",
       "      <td>쓰레기 무단투기</td>\n",
       "      <td>37.529650</td>\n",
       "      <td>126.842445</td>\n",
       "      <td>1</td>\n",
       "      <td>2021-01-29</td>\n",
       "      <td>화곡1동</td>\n",
       "    </tr>\n",
       "    <tr>\n",
       "      <th>3</th>\n",
       "      <td>2197</td>\n",
       "      <td>강서구</td>\n",
       "      <td>T265003(T9041)_화곡동 856-21(무단투기)</td>\n",
       "      <td>쓰레기 무단투기</td>\n",
       "      <td>37.529940</td>\n",
       "      <td>126.853960</td>\n",
       "      <td>1</td>\n",
       "      <td>2021-01-29</td>\n",
       "      <td>화곡2동</td>\n",
       "    </tr>\n",
       "    <tr>\n",
       "      <th>4</th>\n",
       "      <td>2198</td>\n",
       "      <td>강서구</td>\n",
       "      <td>T265002(T9040)_화곡동 846-26(무단투기)</td>\n",
       "      <td>쓰레기 무단투기</td>\n",
       "      <td>37.530319</td>\n",
       "      <td>126.856646</td>\n",
       "      <td>1</td>\n",
       "      <td>2021-01-29</td>\n",
       "      <td>화곡2동</td>\n",
       "    </tr>\n",
       "  </tbody>\n",
       "</table>\n",
       "</div>"
      ],
      "text/plain": [
       "   index  자치구                             안심 주소   CCTV 용도         위도  \\\n",
       "0   2194  강서구  T255004(T9042)_화곡1동 914-39(무단투기)  쓰레기 무단투기  37.529114   \n",
       "1   2195  강서구   T215002(T9024)_화곡1동 937-7(무단투기)  쓰레기 무단투기  37.529304   \n",
       "2   2196  강서구  T255005(T9043)_화곡1동 925-17(무단투기)  쓰레기 무단투기  37.529650   \n",
       "3   2197  강서구   T265003(T9041)_화곡동 856-21(무단투기)  쓰레기 무단투기  37.529940   \n",
       "4   2198  강서구   T265002(T9040)_화곡동 846-26(무단투기)  쓰레기 무단투기  37.530319   \n",
       "\n",
       "           경도  CCTV 수량      수정 일시   동정보  \n",
       "0  126.844800        1 2021-01-29  화곡1동  \n",
       "1  126.839828        1 2021-01-29  화곡1동  \n",
       "2  126.842445        1 2021-01-29  화곡1동  \n",
       "3  126.853960        1 2021-01-29  화곡2동  \n",
       "4  126.856646        1 2021-01-29  화곡2동  "
      ]
     },
     "execution_count": 21,
     "metadata": {},
     "output_type": "execute_result"
    }
   ],
   "source": [
    "df1.head()"
   ]
  },
  {
   "cell_type": "code",
   "execution_count": 22,
   "id": "35daf350",
   "metadata": {
    "ExecuteTime": {
     "end_time": "2022-03-21T06:37:10.955654Z",
     "start_time": "2022-03-21T06:37:10.941205Z"
    }
   },
   "outputs": [],
   "source": [
    "#pip install folium"
   ]
  },
  {
   "cell_type": "code",
   "execution_count": 23,
   "id": "71940d9d",
   "metadata": {
    "ExecuteTime": {
     "end_time": "2022-03-21T06:37:11.964202Z",
     "start_time": "2022-03-21T06:37:10.958254Z"
    }
   },
   "outputs": [
    {
     "name": "stdout",
     "output_type": "stream",
     "text": [
      "28\n"
     ]
    }
   ],
   "source": [
    "import folium\n",
    "import pandas as pd\n",
    "\n",
    "x=[]\n",
    "y=[]\n",
    "for i in range(len(df1['위도'])):\n",
    "    if df1['위도'][i]==0.0 or df1['경도'][i]==0.0:\n",
    "        pass\n",
    "    else:\n",
    "        x.append(df1['위도'][i])\n",
    "        y.append(df1['경도'][i])\n",
    "print(len(x))"
   ]
  },
  {
   "cell_type": "code",
   "execution_count": 24,
   "id": "1faa7074",
   "metadata": {
    "ExecuteTime": {
     "end_time": "2022-03-21T06:39:10.076890Z",
     "start_time": "2022-03-21T06:39:10.028178Z"
    }
   },
   "outputs": [],
   "source": [
    "map_osm = folium.Map(lacation=[x[13],y[13]],zoom_start=10000000)\n",
    "for i in range(len(x)):\n",
    "    folium.Marker([x[i],y[i]],popup='강서구 cctv_%d'%i,icon=folium.Icon(color='blue',icon='info-sign')).add_to(map_osm)\n",
    "\n",
    "\n",
    "map_osm.save('서울특별시 강서구 cctv.html')"
   ]
  },
  {
   "cell_type": "code",
   "execution_count": null,
   "id": "b5652c87",
   "metadata": {},
   "outputs": [],
   "source": []
  },
  {
   "cell_type": "code",
   "execution_count": null,
   "id": "75bfccc8",
   "metadata": {},
   "outputs": [],
   "source": []
  }
 ],
 "metadata": {
  "kernelspec": {
   "display_name": "Python 3",
   "language": "python",
   "name": "python3"
  },
  "language_info": {
   "codemirror_mode": {
    "name": "ipython",
    "version": 3
   },
   "file_extension": ".py",
   "mimetype": "text/x-python",
   "name": "python",
   "nbconvert_exporter": "python",
   "pygments_lexer": "ipython3",
   "version": "3.8.8"
  },
  "toc": {
   "base_numbering": 1,
   "nav_menu": {},
   "number_sections": true,
   "sideBar": true,
   "skip_h1_title": false,
   "title_cell": "Table of Contents",
   "title_sidebar": "Contents",
   "toc_cell": false,
   "toc_position": {},
   "toc_section_display": true,
   "toc_window_display": false
  }
 },
 "nbformat": 4,
 "nbformat_minor": 5
}
